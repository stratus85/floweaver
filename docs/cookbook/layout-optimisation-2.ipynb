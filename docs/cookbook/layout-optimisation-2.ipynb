{
 "cells": [
  {
   "cell_type": "code",
   "execution_count": 1,
   "id": "1a72f1bd-c89a-4131-a229-e3911c603838",
   "metadata": {},
   "outputs": [],
   "source": [
    "from attr import evolve\n",
    "import pandas as pd\n",
    "from floweaver import *"
   ]
  },
  {
   "cell_type": "code",
   "execution_count": 2,
   "id": "9dc2965f-d3f5-4de7-9467-a18d9c9e1cef",
   "metadata": {},
   "outputs": [],
   "source": [
    "dataset = Dataset.from_csv('fruit_flows.csv', 'fruit_processes.csv')"
   ]
  },
  {
   "cell_type": "code",
   "execution_count": 3,
   "id": "3e7f8ceb-6cf2-4efb-8cbc-71f4588ed9cb",
   "metadata": {},
   "outputs": [],
   "source": [
    "farm_ids = ['farm{}'.format(i) for i in range(1, 16)]\n",
    "\n",
    "farm_partition_5 = Partition.Simple('process', [('Other farms', farm_ids[5:])] + farm_ids[:5])\n",
    "partition_fruit = Partition.Simple('material', ['bananas', 'apples', 'oranges'])\n",
    "partition_sector = Partition.Simple('process.sector', ['government', 'industry', 'domestic'])"
   ]
  },
  {
   "cell_type": "code",
   "execution_count": 4,
   "id": "4e3f75d8-ac18-4658-8a87-3743a2aae488",
   "metadata": {},
   "outputs": [],
   "source": [
    "nodes = {\n",
    "    'inputs':     ProcessGroup(['inputs'], title='Inputs'),\n",
    "    'compost':    ProcessGroup('function == \"composting stock\"', title='Compost'),\n",
    "    'farms':      ProcessGroup('function in [\"allotment\", \"large farm\", \"small farm\"]', farm_partition_5),\n",
    "    'eat':        ProcessGroup('function == \"consumers\" and location != \"London\"', partition_sector,\n",
    "                               title='consumers by sector'),\n",
    "    'landfill':   ProcessGroup('function == \"landfill\" and location != \"London\"', title='Landfill'),\n",
    "    'composting': ProcessGroup('function == \"composting process\" and location != \"London\"', title='Composting'),\n",
    "\n",
    "    'fruit':        Waypoint(partition_fruit, title='fruit type'),\n",
    "    'w1':           Waypoint(direction='L', title=''),\n",
    "    'w2':           Waypoint(direction='L', title=''),\n",
    "    'export fruit': Waypoint(Partition.Simple('material', ['apples', 'bananas', 'oranges'])),\n",
    "    'exports':      Waypoint(title='Exports'),\n",
    "}"
   ]
  },
  {
   "cell_type": "code",
   "execution_count": 5,
   "id": "d745d2c7-fd7f-4a78-8d5e-13ea4ea304e3",
   "metadata": {},
   "outputs": [],
   "source": [
    "ordering = [\n",
    "    [[], ['inputs', 'compost'], []],\n",
    "    [[], ['farms'], ['w2']],\n",
    "    [['exports'], ['fruit'], []],\n",
    "    [[], ['eat'], []],\n",
    "    [['export fruit'], ['landfill', 'composting'], ['w1']],\n",
    "]"
   ]
  },
  {
   "cell_type": "code",
   "execution_count": 6,
   "id": "ddc41c09-4de7-45de-9399-098338272673",
   "metadata": {},
   "outputs": [],
   "source": [
    "bundles = [\n",
    "    Bundle('inputs', 'farms'),\n",
    "    Bundle('compost', 'farms'),\n",
    "    Bundle('farms', 'eat', waypoints=['fruit']),\n",
    "    Bundle('farms', 'compost', waypoints=['w2']),\n",
    "    Bundle('eat', 'landfill'),\n",
    "    Bundle('eat', 'composting'),\n",
    "    Bundle('composting', 'compost', waypoints=['w1', 'w2']),\n",
    "    Bundle('farms', Elsewhere, waypoints=['exports', 'export fruit']),\n",
    "]"
   ]
  },
  {
   "cell_type": "code",
   "execution_count": 7,
   "id": "4dcbf636-162a-45f1-a064-35509036e97d",
   "metadata": {},
   "outputs": [
    {
     "data": {
      "application/vnd.jupyter.widget-view+json": {
       "model_id": "74732ba63d4c4f5893d0900b3f039210",
       "version_major": 2,
       "version_minor": 0
      },
      "text/plain": [
       "SankeyWidget(groups=[{'id': '__w2_compost_0', 'type': 'group', 'title': '', 'nodes': ['__w2_compost_0^*']}, {'…"
      ]
     },
     "execution_count": 7,
     "metadata": {},
     "output_type": "execute_result"
    }
   ],
   "source": [
    "sdd = SankeyDefinition(nodes, bundles, ordering,\n",
    "                       flow_partition=dataset.partition('material'))\n",
    "sankey_data = weave(sdd, dataset)\n",
    "sankey_data.to_widget(width=700, height=450, margins=dict(left=70, right=90))"
   ]
  },
  {
   "cell_type": "code",
   "execution_count": 8,
   "id": "5982f210-f3e4-401c-96a4-55499d2b04dd",
   "metadata": {},
   "outputs": [
    {
     "name": "stdout",
     "output_type": "stream",
     "text": [
      "10.3086576461792\n"
     ]
    }
   ],
   "source": [
    "sankey_data_evolved = optimise_node_order(sankey_data, group_nodes=True)"
   ]
  },
  {
   "cell_type": "code",
   "execution_count": 9,
   "id": "0dfa2a67-429a-423a-822a-862aee5d2548",
   "metadata": {},
   "outputs": [
    {
     "data": {
      "application/vnd.jupyter.widget-view+json": {
       "model_id": "fe4cafd87eeb49f1b5f1ff56862c2849",
       "version_major": 2,
       "version_minor": 0
      },
      "text/plain": [
       "VBox(children=(SankeyWidget(groups=[{'id': '__w2_compost_0', 'type': 'group', 'title': '', 'nodes': ['__w2_com…"
      ]
     },
     "execution_count": 9,
     "metadata": {},
     "output_type": "execute_result"
    }
   ],
   "source": [
    "sankey_data_evolved.to_widget(width=700, height=450, margins=dict(left=100, right=120), debugging=True)"
   ]
  },
  {
   "cell_type": "code",
   "execution_count": 10,
   "id": "1be49fec-0a87-40b1-9e0d-47db9219e532",
   "metadata": {},
   "outputs": [
    {
     "name": "stdout",
     "output_type": "stream",
     "text": [
      "3.057634115219116\n"
     ]
    },
    {
     "data": {
      "application/vnd.jupyter.widget-view+json": {
       "model_id": "9a04b5a3ba154477ac713b436c517016",
       "version_major": 2,
       "version_minor": 0
      },
      "text/plain": [
       "SankeyWidget(groups=[{'id': '__w2_compost_0', 'type': 'group', 'title': '', 'nodes': ['__w2_compost_0^*']}, {'…"
      ]
     },
     "execution_count": 10,
     "metadata": {},
     "output_type": "execute_result"
    }
   ],
   "source": [
    "sankey_data_evolved.to_widget(layout=optimise_node_positions(sankey_data_evolved, scale = 0.02))"
   ]
  },
  {
   "cell_type": "code",
   "execution_count": null,
   "id": "33c745e1-a08c-43d6-94eb-dc6a6fb5e6d5",
   "metadata": {},
   "outputs": [],
   "source": []
  }
 ],
 "metadata": {
  "kernelspec": {
   "display_name": "venvsankey3.10.9",
   "language": "python",
   "name": "venvsankey3.10.9"
  },
  "language_info": {
   "codemirror_mode": {
    "name": "ipython",
    "version": 3
   },
   "file_extension": ".py",
   "mimetype": "text/x-python",
   "name": "python",
   "nbconvert_exporter": "python",
   "pygments_lexer": "ipython3",
   "version": "3.11.7"
  }
 },
 "nbformat": 4,
 "nbformat_minor": 5
}
