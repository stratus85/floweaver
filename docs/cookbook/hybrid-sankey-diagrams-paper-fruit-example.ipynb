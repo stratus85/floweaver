{
 "cells": [
  {
   "cell_type": "markdown",
   "metadata": {},
   "source": [
    "# \"Fruit\" example (from Hybrid Sankey diagrams paper)\n",
    "\n",
    "This notebook gives a fairly complicated example of building a Sankey diagram from the sample \"fruit\" database used in the paper [Hybrid Sankey diagrams: Visual analysis of multidimensional data for understanding resource use](https://doi.org/10.1016/j.resconrec.2017.05.002).\n",
    "\n",
    "For more explanation of the steps and concepts, see the [tutorials](../tutorials/index.ipynb)."
   ]
  },
  {
   "cell_type": "code",
   "execution_count": 1,
   "metadata": {},
   "outputs": [],
   "source": [
    "from attr import evolve\n",
    "import pandas as pd\n",
    "from floweaver import *"
   ]
  },
  {
   "cell_type": "markdown",
   "metadata": {},
   "source": [
    "Load the dataset:"
   ]
  },
  {
   "cell_type": "code",
   "execution_count": 2,
   "metadata": {},
   "outputs": [],
   "source": [
    "dataset = Dataset.from_csv('fruit_flows.csv', 'fruit_processes.csv')"
   ]
  },
  {
   "cell_type": "markdown",
   "metadata": {},
   "source": [
    "This made-up dataset describes flows from farms to consumers:"
   ]
  },
  {
   "cell_type": "code",
   "execution_count": 3,
   "metadata": {},
   "outputs": [
    {
     "data": {
      "text/html": [
       "<div>\n",
       "<style scoped>\n",
       "    .dataframe tbody tr th:only-of-type {\n",
       "        vertical-align: middle;\n",
       "    }\n",
       "\n",
       "    .dataframe tbody tr th {\n",
       "        vertical-align: top;\n",
       "    }\n",
       "\n",
       "    .dataframe thead th {\n",
       "        text-align: right;\n",
       "    }\n",
       "</style>\n",
       "<table border=\"1\" class=\"dataframe\">\n",
       "  <thead>\n",
       "    <tr style=\"text-align: right;\">\n",
       "      <th></th>\n",
       "      <th>source</th>\n",
       "      <th>target</th>\n",
       "      <th>material</th>\n",
       "      <th>time</th>\n",
       "      <th>value</th>\n",
       "    </tr>\n",
       "  </thead>\n",
       "  <tbody>\n",
       "    <tr>\n",
       "      <th>0</th>\n",
       "      <td>farm1</td>\n",
       "      <td>eat1</td>\n",
       "      <td>apples</td>\n",
       "      <td>2011-08-01</td>\n",
       "      <td>2.720691</td>\n",
       "    </tr>\n",
       "    <tr>\n",
       "      <th>1</th>\n",
       "      <td>eat1</td>\n",
       "      <td>landfill Cambridge</td>\n",
       "      <td>apples</td>\n",
       "      <td>2011-08-01</td>\n",
       "      <td>1.904484</td>\n",
       "    </tr>\n",
       "    <tr>\n",
       "      <th>2</th>\n",
       "      <td>eat1</td>\n",
       "      <td>composting Cambridge</td>\n",
       "      <td>apples</td>\n",
       "      <td>2011-08-01</td>\n",
       "      <td>0.816207</td>\n",
       "    </tr>\n",
       "    <tr>\n",
       "      <th>3</th>\n",
       "      <td>farm1</td>\n",
       "      <td>eat1</td>\n",
       "      <td>apples</td>\n",
       "      <td>2011-08-02</td>\n",
       "      <td>8.802195</td>\n",
       "    </tr>\n",
       "    <tr>\n",
       "      <th>4</th>\n",
       "      <td>eat1</td>\n",
       "      <td>landfill Cambridge</td>\n",
       "      <td>apples</td>\n",
       "      <td>2011-08-02</td>\n",
       "      <td>6.161537</td>\n",
       "    </tr>\n",
       "  </tbody>\n",
       "</table>\n",
       "</div>"
      ],
      "text/plain": [
       "  source                target material        time     value\n",
       "0  farm1                  eat1   apples  2011-08-01  2.720691\n",
       "1   eat1    landfill Cambridge   apples  2011-08-01  1.904484\n",
       "2   eat1  composting Cambridge   apples  2011-08-01  0.816207\n",
       "3  farm1                  eat1   apples  2011-08-02  8.802195\n",
       "4   eat1    landfill Cambridge   apples  2011-08-02  6.161537"
      ]
     },
     "execution_count": 3,
     "metadata": {},
     "output_type": "execute_result"
    }
   ],
   "source": [
    "dataset._flows.head()"
   ]
  },
  {
   "cell_type": "markdown",
   "metadata": {},
   "source": [
    "Additional information is available in the process dimension table:"
   ]
  },
  {
   "cell_type": "code",
   "execution_count": 4,
   "metadata": {},
   "outputs": [
    {
     "data": {
      "text/html": [
       "<div>\n",
       "<style scoped>\n",
       "    .dataframe tbody tr th:only-of-type {\n",
       "        vertical-align: middle;\n",
       "    }\n",
       "\n",
       "    .dataframe tbody tr th {\n",
       "        vertical-align: top;\n",
       "    }\n",
       "\n",
       "    .dataframe thead th {\n",
       "        text-align: right;\n",
       "    }\n",
       "</style>\n",
       "<table border=\"1\" class=\"dataframe\">\n",
       "  <thead>\n",
       "    <tr style=\"text-align: right;\">\n",
       "      <th></th>\n",
       "      <th>type</th>\n",
       "      <th>location</th>\n",
       "      <th>function</th>\n",
       "      <th>sector</th>\n",
       "    </tr>\n",
       "    <tr>\n",
       "      <th>id</th>\n",
       "      <th></th>\n",
       "      <th></th>\n",
       "      <th></th>\n",
       "      <th></th>\n",
       "    </tr>\n",
       "  </thead>\n",
       "  <tbody>\n",
       "    <tr>\n",
       "      <th>inputs</th>\n",
       "      <td>stock</td>\n",
       "      <td>*</td>\n",
       "      <td>inputs</td>\n",
       "      <td>NaN</td>\n",
       "    </tr>\n",
       "    <tr>\n",
       "      <th>farm1</th>\n",
       "      <td>process</td>\n",
       "      <td>Cambridge</td>\n",
       "      <td>small farm</td>\n",
       "      <td>farming</td>\n",
       "    </tr>\n",
       "    <tr>\n",
       "      <th>farm2</th>\n",
       "      <td>process</td>\n",
       "      <td>Cambridge</td>\n",
       "      <td>small farm</td>\n",
       "      <td>farming</td>\n",
       "    </tr>\n",
       "    <tr>\n",
       "      <th>farm3</th>\n",
       "      <td>process</td>\n",
       "      <td>Ely</td>\n",
       "      <td>small farm</td>\n",
       "      <td>farming</td>\n",
       "    </tr>\n",
       "    <tr>\n",
       "      <th>farm4</th>\n",
       "      <td>process</td>\n",
       "      <td>Ely</td>\n",
       "      <td>allotment</td>\n",
       "      <td>farming</td>\n",
       "    </tr>\n",
       "  </tbody>\n",
       "</table>\n",
       "</div>"
      ],
      "text/plain": [
       "           type   location    function   sector\n",
       "id                                             \n",
       "inputs    stock          *      inputs      NaN\n",
       "farm1   process  Cambridge  small farm  farming\n",
       "farm2   process  Cambridge  small farm  farming\n",
       "farm3   process        Ely  small farm  farming\n",
       "farm4   process        Ely   allotment  farming"
      ]
     },
     "execution_count": 4,
     "metadata": {},
     "output_type": "execute_result"
    }
   ],
   "source": [
    "dataset._dim_process.head()"
   ]
  },
  {
   "cell_type": "markdown",
   "metadata": {},
   "source": [
    "We'll also define some partitions that will be useful:"
   ]
  },
  {
   "cell_type": "code",
   "execution_count": 5,
   "metadata": {},
   "outputs": [],
   "source": [
    "farm_ids = ['farm{}'.format(i) for i in range(1, 16)]\n",
    "\n",
    "farm_partition_5 = Partition.Simple('process', [('Other farms', farm_ids[5:])] + farm_ids[:5])\n",
    "partition_fruit = Partition.Simple('material', ['bananas', 'apples', 'oranges'])\n",
    "partition_sector = Partition.Simple('process.sector', ['government', 'industry', 'domestic'])"
   ]
  },
  {
   "cell_type": "markdown",
   "metadata": {},
   "source": [
    "Now define the Sankey diagram definition.\n",
    "\n",
    "- Process groups represent sets of processes in the underlying database. The underlying processes can be specified as a list of ids (e.g. `['inputs']`) or as a Pandas query expression (e.g. `'function == \"landfill\"'`).\n",
    "- Waypoints allow extra control over the partitioning and placement of flows."
   ]
  },
  {
   "cell_type": "code",
   "execution_count": 6,
   "metadata": {},
   "outputs": [],
   "source": [
    "nodes = {\n",
    "    'inputs':     ProcessGroup(['inputs'], title='Inputs'),\n",
    "    'compost':    ProcessGroup('function == \"composting stock\"', title='Compost'),\n",
    "    'farms':      ProcessGroup('function in [\"allotment\", \"large farm\", \"small farm\"]', farm_partition_5),\n",
    "    'eat':        ProcessGroup('function == \"consumers\" and location != \"London\"', partition_sector,\n",
    "                               title='consumers by sector'),\n",
    "    'landfill':   ProcessGroup('function == \"landfill\" and location != \"London\"', title='Landfill'),\n",
    "    'composting': ProcessGroup('function == \"composting process\" and location != \"London\"', title='Composting'),\n",
    "\n",
    "    'fruit':        Waypoint(partition_fruit, title='fruit type'),\n",
    "    'w1':           Waypoint(direction='L', title=''),\n",
    "    'w2':           Waypoint(direction='L', title=''),\n",
    "    'export fruit': Waypoint(Partition.Simple('material', ['apples', 'bananas', 'oranges'])),\n",
    "    'exports':      Waypoint(title='Exports'),\n",
    "}"
   ]
  },
  {
   "cell_type": "markdown",
   "metadata": {},
   "source": [
    "The ordering defines how the process groups and waypoints are arranged in the final diagram. It is structured as a list of vertical *layers* (from left to right), each containing a list of horizontal *bands* (from top to bottom), each containing a list of process group and waypoint ids (from top to bottom)."
   ]
  },
  {
   "cell_type": "code",
   "execution_count": 7,
   "metadata": {},
   "outputs": [],
   "source": [
    "ordering = [\n",
    "    [[], ['inputs', 'compost'], []],\n",
    "    [[], ['farms'], ['w2']],\n",
    "    [['exports'], ['fruit'], []],\n",
    "    [[], ['eat'], []],\n",
    "    [['export fruit'], ['landfill', 'composting'], ['w1']],\n",
    "]"
   ]
  },
  {
   "cell_type": "markdown",
   "metadata": {},
   "source": [
    "Bundles represent flows in the underlying database:"
   ]
  },
  {
   "cell_type": "code",
   "execution_count": 8,
   "metadata": {},
   "outputs": [],
   "source": [
    "bundles = [\n",
    "    Bundle('inputs', 'farms'),\n",
    "    Bundle('compost', 'farms'),\n",
    "    Bundle('farms', 'eat', waypoints=['fruit']),\n",
    "    Bundle('farms', 'compost', waypoints=['w2']),\n",
    "    Bundle('eat', 'landfill'),\n",
    "    Bundle('eat', 'composting'),\n",
    "    Bundle('composting', 'compost', waypoints=['w1', 'w2']),\n",
    "    Bundle('farms', Elsewhere, waypoints=['exports', 'export fruit']),\n",
    "]"
   ]
  },
  {
   "cell_type": "markdown",
   "metadata": {},
   "source": [
    "Finally, the process groups, waypoints, bundles and ordering are combined into a Sankey diagram definition (SDD). When applied to the dataset, the result is a Sankey diagram!"
   ]
  },
  {
   "cell_type": "code",
   "execution_count": 13,
   "metadata": {},
   "outputs": [
    {
     "data": {
      "application/vnd.jupyter.widget-view+json": {
       "model_id": "6b2016bccf944911b2d938601ab28ada",
       "version_major": 2,
       "version_minor": 0
      },
      "text/plain": [
       "SankeyWidget(groups=[{'id': '__w2_compost_0', 'type': 'group', 'title': '', 'nodes': ['__w2_compost_0^*']}, {'…"
      ]
     },
     "execution_count": 13,
     "metadata": {},
     "output_type": "execute_result"
    }
   ],
   "source": [
    "sdd = SankeyDefinition(nodes, bundles, ordering,\n",
    "                       flow_partition=dataset.partition('material'))\n",
    "sankey_data.to_widget(width=570, height=550, margins=dict(left=70, right=90))"
   ]
  }
 ],
 "metadata": {
  "kernelspec": {
   "display_name": "venvsankey3.10.9",
   "language": "python",
   "name": "venvsankey3.10.9"
  },
  "language_info": {
   "codemirror_mode": {
    "name": "ipython",
    "version": 3
   },
   "file_extension": ".py",
   "mimetype": "text/x-python",
   "name": "python",
   "nbconvert_exporter": "python",
   "pygments_lexer": "ipython3",
   "version": "3.10.9"
  }
 },
 "nbformat": 4,
 "nbformat_minor": 4
}
