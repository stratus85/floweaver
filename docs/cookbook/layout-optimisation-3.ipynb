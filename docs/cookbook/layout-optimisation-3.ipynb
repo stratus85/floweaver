{
 "cells": [
  {
   "cell_type": "code",
   "execution_count": 1,
   "id": "8a757c91-2d0d-41a0-b7eb-7616c8c75f7e",
   "metadata": {},
   "outputs": [],
   "source": [
    "from attr import evolve\n",
    "import pandas as pd\n",
    "from floweaver import *"
   ]
  },
  {
   "cell_type": "code",
   "execution_count": 9,
   "id": "425e31cd-2ddc-4424-9494-55d03feb8af2",
   "metadata": {},
   "outputs": [],
   "source": [
    "flows = pd.read_csv('global-steel-flows.csv').to_dict('records')\n",
    "processes = pd.read_csv('global-steel-processes.csv').to_dict('records')\n",
    "dataset = Dataset.from_csv('global-steel-flows.csv','global-steel-processes.csv')"
   ]
  },
  {
   "cell_type": "code",
   "execution_count": 10,
   "id": "c3465193-10c9-4121-9562-770086efd9de",
   "metadata": {},
   "outputs": [],
   "source": [
    "nodes = generate_nodes(processes)\n",
    "ordering = generate_ordering(processes)\n",
    "ordering,nodes,bundles = generate_waypoints_bundles(processes, flows, ordering, nodes)"
   ]
  },
  {
   "cell_type": "code",
   "execution_count": 14,
   "id": "2c892e69-3f7e-4b72-85bc-8ea8c48459fa",
   "metadata": {},
   "outputs": [
    {
     "data": {
      "application/vnd.jupyter.widget-view+json": {
       "model_id": "4c72ccafc3c64810a24b86797c7aa134",
       "version_major": 2,
       "version_minor": 0
      },
      "text/plain": [
       "SankeyWidget(groups=[{'id': 'wp0', 'type': 'group', 'title': '', 'nodes': ['wp0^*']}, {'id': 'fwpBFFIC0', 'typ…"
      ]
     },
     "execution_count": 14,
     "metadata": {},
     "output_type": "execute_result"
    }
   ],
   "source": [
    "sdd = SankeyDefinition(nodes, bundles, ordering, flow_partition=dataset.partition('type'))\n",
    "sankey_data = weave(sdd, dataset)\n",
    "sankey_data.to_widget(width=1000, height=550, margins=dict(left=70, right=90))"
   ]
  },
  {
   "cell_type": "code",
   "execution_count": 15,
   "id": "321b0ee0-5704-43d5-8a1c-c40bb3844361",
   "metadata": {},
   "outputs": [
    {
     "name": "stdout",
     "output_type": "stream",
     "text": [
      "5.4460608959198\n"
     ]
    }
   ],
   "source": [
    "sankey_data_evolved = optimise_node_order(sankey_data, group_nodes=True)"
   ]
  },
  {
   "cell_type": "code",
   "execution_count": 32,
   "id": "78f312e7-766e-47b9-acc9-7965925b60cd",
   "metadata": {},
   "outputs": [
    {
     "data": {
      "application/vnd.jupyter.widget-view+json": {
       "model_id": "fb22f404852745aaa9abd8001d2901fe",
       "version_major": 2,
       "version_minor": 0
      },
      "text/plain": [
       "VBox(children=(SankeyWidget(groups=[{'id': 'wp0', 'type': 'group', 'title': '', 'nodes': ['wp0^*']}, {'id': 'f…"
      ]
     },
     "execution_count": 32,
     "metadata": {},
     "output_type": "execute_result"
    }
   ],
   "source": [
    "sankey_data_evolved.to_widget(width=1000, height=550, margins=dict(left=100, right=120), debugging=True)"
   ]
  },
  {
   "cell_type": "code",
   "execution_count": 30,
   "id": "73aebb9f-d4f9-4944-88d3-34f8f40ce75d",
   "metadata": {},
   "outputs": [
    {
     "name": "stdout",
     "output_type": "stream",
     "text": [
      "1.390228033065796\n"
     ]
    },
    {
     "data": {
      "application/vnd.jupyter.widget-view+json": {
       "model_id": "3bb38e3f338d4e1f83c3c80abc12a660",
       "version_major": 2,
       "version_minor": 0
      },
      "text/plain": [
       "SankeyWidget(groups=[{'id': 'wp0', 'type': 'group', 'title': '', 'nodes': ['wp0^*']}, {'id': 'fwpBFFIC0', 'typ…"
      ]
     },
     "execution_count": 30,
     "metadata": {},
     "output_type": "execute_result"
    }
   ],
   "source": [
    "sankey_data_evolved.to_widget(layout=optimise_node_positions(sankey_data_evolved, scale = 0.16, width=1000, height=650, margins=dict(left=100, right=120)))"
   ]
  }
 ],
 "metadata": {
  "kernelspec": {
   "display_name": "venvsankey3.10.9",
   "language": "python",
   "name": "venvsankey3.10.9"
  },
  "language_info": {
   "codemirror_mode": {
    "name": "ipython",
    "version": 3
   },
   "file_extension": ".py",
   "mimetype": "text/x-python",
   "name": "python",
   "nbconvert_exporter": "python",
   "pygments_lexer": "ipython3",
   "version": "3.10.9"
  }
 },
 "nbformat": 4,
 "nbformat_minor": 5
}
